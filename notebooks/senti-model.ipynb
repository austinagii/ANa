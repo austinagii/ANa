{
 "cells": [
  {
   "cell_type": "code",
   "execution_count": 1,
   "metadata": {
    "tags": []
   },
   "outputs": [
    {
     "name": "stderr",
     "output_type": "stream",
     "text": [
      "/Users/kadeem/.local/share/virtualenvs/ana-core-qx_GBbKI/lib/python3.10/site-packages/tqdm/auto.py:21: TqdmWarning: IProgress not found. Please update jupyter and ipywidgets. See https://ipywidgets.readthedocs.io/en/stable/user_install.html\n",
      "  from .autonotebook import tqdm as notebook_tqdm\n"
     ]
    }
   ],
   "source": [
    "from os import path\n",
    "import sys\n",
    "\n",
    "import datasets\n",
    "import torch\n",
    "from torch.optim import SGD\n",
    "\n",
    "from core.language.preprocessing import Codec, Tokenizer\n",
    "from core.language.model import Model, train, eval\n",
    "from core.language import utils"
   ]
  },
  {
   "cell_type": "code",
   "execution_count": 2,
   "metadata": {},
   "outputs": [],
   "source": [
    "dataset = datasets.load_dataset(\"emotion\")\n",
    "train_dataset, validation_dataset = dataset['train'], dataset['validation']"
   ]
  },
  {
   "cell_type": "code",
   "execution_count": 3,
   "metadata": {
    "tags": []
   },
   "outputs": [],
   "source": [
    "tokenizer = Tokenizer(lazy=True)\n",
    "codec = Codec(tokenizer.tokenize_all(train_dataset[\"text\"], flatten=True))"
   ]
  },
  {
   "cell_type": "code",
   "execution_count": null,
   "metadata": {},
   "outputs": [],
   "source": [
    "emotion_by_label = {\n",
    "    0: 'sadness',\n",
    "    1: 'joy',\n",
    "    2: 'love',\n",
    "    3: 'anger',\n",
    "    4: 'fear',\n",
    "    5: 'surprise'\n",
    "}"
   ]
  },
  {
   "cell_type": "code",
   "execution_count": null,
   "metadata": {},
   "outputs": [],
   "source": [
    "tokenizer = Tokenizer(dataset['train'])\n",
    "n_classes = len(emotion_by_label)\n",
    "device = utils.get_available_device()\n",
    "model = Model(tokenizer.vocab_size, n_classes).to(device)\n",
    "optimizer = SGD(model.parameters(), lr=0.01)\n",
    "\n",
    "print(f\"Model initalized, starting training on '{device}'...\\n\")\n",
    "epoch = 0\n",
    "batch_size = 128\n",
    "stopping_criterion = 1e-3\n",
    "min_val_loss = float('inf')\n",
    "iterations_without_improvement = 0\n",
    "while iterations_without_improvement < 3:\n",
    "    with utils.Timer() as epoch_timer:\n",
    "        epoch += 1\n",
    "        total_train_loss, avg_train_loss = train(model, train_dataset, tokenizer, optimizer, device, batch_size)\n",
    "        total_val_loss, avg_val_loss = eval(model, validation_dataset, tokenizer, device, batch_size)\n",
    "        if total_val_loss < min_val_loss - stopping_criterion:\n",
    "            min_val_loss = total_val_loss\n",
    "            iterations_without_improvement = 0\n",
    "        else:\n",
    "            iterations_without_improvement += 1\n",
    "    print(\"Epoch #{:0>3} [{:.2f}s] :: Train loss: '{:.4f}' Validation loss: '{:.4f}'\".format(\n",
    "        epoch, epoch_timer.interval, avg_train_loss, avg_val_loss))"
   ]
  },
  {
   "cell_type": "code",
   "execution_count": null,
   "metadata": {},
   "outputs": [],
   "source": [
    "def predict_emotion(document: str) -> str:    \n",
    "    tokens = tokenizer.tokenize(document)\n",
    "    token_tensor = torch.zeros((1, tokenizer.vocab_size))\n",
    "    token_tensor[:, tokens] = 1\n",
    "    return emotion_by_label[model(token_tensor).argmax(dim=1).item()]"
   ]
  },
  {
   "cell_type": "code",
   "execution_count": null,
   "metadata": {},
   "outputs": [],
   "source": [
    "print(predict_emotion(\"That's too much\"))\n",
    "print(predict_emotion(\"I love you\"))\n",
    "print(predict_emotion(\"I hate you\"))\n",
    "print(predict_emotion(\"I'm sad\"))\n",
    "print(predict_emotion(\"I'm happy\"))\n",
    "print(predict_emotion(\"I'm scared\"))"
   ]
  },
  {
   "cell_type": "code",
   "execution_count": null,
   "metadata": {},
   "outputs": [],
   "source": []
  }
 ],
 "metadata": {
  "kernelspec": {
   "display_name": "Python 3 (ipykernel)",
   "language": "python",
   "name": "python3"
  },
  "language_info": {
   "codemirror_mode": {
    "name": "ipython",
    "version": 3
   },
   "file_extension": ".py",
   "mimetype": "text/x-python",
   "name": "python",
   "nbconvert_exporter": "python",
   "pygments_lexer": "ipython3",
   "version": "3.10.9"
  }
 },
 "nbformat": 4,
 "nbformat_minor": 4
}
