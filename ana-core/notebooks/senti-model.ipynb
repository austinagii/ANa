{
 "cells": [
  {
   "cell_type": "code",
   "execution_count": 1,
   "metadata": {},
   "outputs": [
    {
     "name": "stderr",
     "output_type": "stream",
     "text": [
      "/Users/kadeem/.pyenv/versions/3.10.9/envs/lab/lib/python3.10/site-packages/tqdm/auto.py:21: TqdmWarning: IProgress not found. Please update jupyter and ipywidgets. See https://ipywidgets.readthedocs.io/en/stable/user_install.html\n",
      "  from .autonotebook import tqdm as notebook_tqdm\n"
     ]
    }
   ],
   "source": [
    "from os import path\n",
    "import sys\n",
    "\n",
    "import datasets\n",
    "import torch\n",
    "from torch.optim import SGD\n",
    "\n",
    "from sentpy.preprocessing import Tokenizer\n",
    "from sentpy.model import Model, train, eval\n",
    "from sentpy import utils"
   ]
  },
  {
   "cell_type": "code",
   "execution_count": 2,
   "metadata": {},
   "outputs": [],
   "source": [
    "dataset = datasets.load_dataset(\"emotion\")\n",
    "train_dataset, validation_dataset = dataset['train'], dataset['validation']\n"
   ]
  },
  {
   "cell_type": "code",
   "execution_count": 3,
   "metadata": {},
   "outputs": [],
   "source": [
    "emotion_by_label = {\n",
    "    0: 'sadness',\n",
    "    1: 'joy',\n",
    "    2: 'love',\n",
    "    3: 'anger',\n",
    "    4: 'fear',\n",
    "    5: 'surprise'\n",
    "}"
   ]
  },
  {
   "cell_type": "code",
   "execution_count": 5,
   "metadata": {},
   "outputs": [
    {
     "name": "stdout",
     "output_type": "stream",
     "text": [
      "Model initalized, starting training on 'mps'...\n",
      "\n",
      "Epoch #001 [29.73s] :: Train loss: '1.6821' Validation loss: '1.6172'\n"
     ]
    },
    {
     "ename": "KeyboardInterrupt",
     "evalue": "",
     "output_type": "error",
     "traceback": [
      "\u001b[0;31m---------------------------------------------------------------------------\u001b[0m",
      "\u001b[0;31mKeyboardInterrupt\u001b[0m                         Traceback (most recent call last)",
      "\u001b[1;32m/Users/kadeem/Spaces/Projects/Senti/sentiment-api/notebooks/model.ipynb Cell 4\u001b[0m line \u001b[0;36m1\n\u001b[1;32m     <a href='vscode-notebook-cell:/Users/kadeem/Spaces/Projects/Senti/sentiment-api/notebooks/model.ipynb#X11sZmlsZQ%3D%3D?line=13'>14</a>\u001b[0m \u001b[39mwith\u001b[39;00m utils\u001b[39m.\u001b[39mTimer() \u001b[39mas\u001b[39;00m epoch_timer:\n\u001b[1;32m     <a href='vscode-notebook-cell:/Users/kadeem/Spaces/Projects/Senti/sentiment-api/notebooks/model.ipynb#X11sZmlsZQ%3D%3D?line=14'>15</a>\u001b[0m     epoch \u001b[39m+\u001b[39m\u001b[39m=\u001b[39m \u001b[39m1\u001b[39m\n\u001b[0;32m---> <a href='vscode-notebook-cell:/Users/kadeem/Spaces/Projects/Senti/sentiment-api/notebooks/model.ipynb#X11sZmlsZQ%3D%3D?line=15'>16</a>\u001b[0m     total_train_loss, avg_train_loss \u001b[39m=\u001b[39m train(model, train_dataset, tokenizer, optimizer, device, batch_size)\n\u001b[1;32m     <a href='vscode-notebook-cell:/Users/kadeem/Spaces/Projects/Senti/sentiment-api/notebooks/model.ipynb#X11sZmlsZQ%3D%3D?line=16'>17</a>\u001b[0m     total_val_loss, avg_val_loss \u001b[39m=\u001b[39m \u001b[39meval\u001b[39m(model, validation_dataset, tokenizer, device, batch_size)\n\u001b[1;32m     <a href='vscode-notebook-cell:/Users/kadeem/Spaces/Projects/Senti/sentiment-api/notebooks/model.ipynb#X11sZmlsZQ%3D%3D?line=17'>18</a>\u001b[0m     \u001b[39mif\u001b[39;00m total_val_loss \u001b[39m<\u001b[39m min_val_loss \u001b[39m-\u001b[39m stopping_criterion:\n",
      "File \u001b[0;32m~/Spaces/Projects/Senti/sentiment-api/src/sentpy/model.py:32\u001b[0m, in \u001b[0;36mtrain\u001b[0;34m(model, dataset, tokenizer, optimizer, device, batch_size)\u001b[0m\n\u001b[1;32m     30\u001b[0m     loss\u001b[39m.\u001b[39mbackward()\n\u001b[1;32m     31\u001b[0m     optimizer\u001b[39m.\u001b[39mstep()\n\u001b[0;32m---> 32\u001b[0m     total_loss \u001b[39m+\u001b[39m\u001b[39m=\u001b[39m loss\u001b[39m.\u001b[39;49mitem()\n\u001b[1;32m     33\u001b[0m avg_loss \u001b[39m=\u001b[39m total_loss \u001b[39m/\u001b[39m batch_no\n\u001b[1;32m     34\u001b[0m \u001b[39mreturn\u001b[39;00m total_loss, avg_loss\n",
      "\u001b[0;31mKeyboardInterrupt\u001b[0m: "
     ]
    }
   ],
   "source": [
    "tokenizer = Tokenizer(dataset['train'])\n",
    "n_classes = len(emotion_by_label)\n",
    "device = utils.get_available_device()\n",
    "model = Model(tokenizer.vocab_size, n_classes).to(device)\n",
    "optimizer = SGD(model.parameters(), lr=0.01)\n",
    "\n",
    "print(f\"Model initalized, starting training on '{device}'...\\n\")\n",
    "epoch = 0\n",
    "batch_size = 128\n",
    "stopping_criterion = 1e-3\n",
    "min_val_loss = float('inf')\n",
    "iterations_without_improvement = 0\n",
    "while iterations_without_improvement < 3:\n",
    "    with utils.Timer() as epoch_timer:\n",
    "        epoch += 1\n",
    "        total_train_loss, avg_train_loss = train(model, train_dataset, tokenizer, optimizer, device, batch_size)\n",
    "        total_val_loss, avg_val_loss = eval(model, validation_dataset, tokenizer, device, batch_size)\n",
    "        if total_val_loss < min_val_loss - stopping_criterion:\n",
    "            min_val_loss = total_val_loss\n",
    "            iterations_without_improvement = 0\n",
    "        else:\n",
    "            iterations_without_improvement += 1\n",
    "    print(\"Epoch #{:0>3} [{:.2f}s] :: Train loss: '{:.4f}' Validation loss: '{:.4f}'\".format(\n",
    "        epoch, epoch_timer.interval, avg_train_loss, avg_val_loss))"
   ]
  },
  {
   "cell_type": "code",
   "execution_count": null,
   "metadata": {},
   "outputs": [],
   "source": [
    "def predict_emotion(document: str) -> str:    \n",
    "    tokens = tokenizer.tokenize(document)\n",
    "    token_tensor = torch.zeros((1, tokenizer.vocab_size))\n",
    "    token_tensor[:, tokens] = 1\n",
    "    return emotion_by_label[model(token_tensor).argmax(dim=1).item()]"
   ]
  },
  {
   "cell_type": "code",
   "execution_count": null,
   "metadata": {},
   "outputs": [
    {
     "name": "stdout",
     "output_type": "stream",
     "text": [
      "joy\n",
      "joy\n",
      "anger\n",
      "sadness\n",
      "joy\n",
      "fear\n"
     ]
    }
   ],
   "source": [
    "print(predict_emotion(\"That's too much\"))\n",
    "print(predict_emotion(\"I love you\"))\n",
    "print(predict_emotion(\"I hate you\"))\n",
    "print(predict_emotion(\"I'm sad\"))\n",
    "print(predict_emotion(\"I'm happy\"))\n",
    "print(predict_emotion(\"I'm scared\"))"
   ]
  },
  {
   "cell_type": "code",
   "execution_count": null,
   "metadata": {},
   "outputs": [],
   "source": []
  }
 ],
 "metadata": {
  "kernelspec": {
   "display_name": "Python 3 (ipykernel)",
   "language": "python",
   "name": "python3"
  },
  "language_info": {
   "codemirror_mode": {
    "name": "ipython",
    "version": 3
   },
   "file_extension": ".py",
   "mimetype": "text/x-python",
   "name": "python",
   "nbconvert_exporter": "python",
   "pygments_lexer": "ipython3",
   "version": "3.10.9"
  }
 },
 "nbformat": 4,
 "nbformat_minor": 2
}
